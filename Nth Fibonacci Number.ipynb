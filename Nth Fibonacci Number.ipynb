{
 "cells": [
  {
   "cell_type": "markdown",
   "id": "7bf88e00",
   "metadata": {},
   "source": [
    "#  F(n) = F(n-1) + F(n-2), \n",
    "    Where, F(1) =  1, \n",
    "           F(2) = 1"
   ]
  },
  {
   "cell_type": "code",
   "execution_count": 1,
   "id": "e14048a9",
   "metadata": {},
   "outputs": [
    {
     "name": "stdout",
     "output_type": "stream",
     "text": [
      "6\n",
      "8\n"
     ]
    }
   ],
   "source": [
    "N=int(input())\n",
    "def fibonacci(N):\n",
    "    a = 0\n",
    "    b = 1\n",
    "    if N < 0:\n",
    "        print(\"Incorrect input\")\n",
    "    elif N == 0:\n",
    "        return a\n",
    "    elif N == 1:\n",
    "        return b\n",
    "    else:\n",
    "        for i in range(2,N+1):\n",
    "            c = a + b\n",
    "            a = b\n",
    "            b = c\n",
    "        return b\n",
    "    \n",
    "print(fibonacci(N))"
   ]
  }
 ],
 "metadata": {
  "kernelspec": {
   "display_name": "Python 3 (ipykernel)",
   "language": "python",
   "name": "python3"
  },
  "language_info": {
   "codemirror_mode": {
    "name": "ipython",
    "version": 3
   },
   "file_extension": ".py",
   "mimetype": "text/x-python",
   "name": "python",
   "nbconvert_exporter": "python",
   "pygments_lexer": "ipython3",
   "version": "3.9.7"
  }
 },
 "nbformat": 4,
 "nbformat_minor": 5
}
