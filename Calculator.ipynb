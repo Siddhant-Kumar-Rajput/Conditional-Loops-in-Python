{
 "cells": [
  {
   "cell_type": "markdown",
   "id": "04970917",
   "metadata": {},
   "source": [
    "Write a program that performs the tasks of a simple calculator. The program should first take an integer as input and then based on that integer perform the task as given below.\n",
    "1. If the input is 1, then 2 integers are taken from the user and their sum is printed.\n",
    "2. If the input is 2, then 2 integers are taken from the user and their difference(1st number - 2nd number) is printed.\n",
    "3. If the input is 3, then 2 integers are taken from the user and their product is printed.\n",
    "4. If the input is 4, then 2 integers are taken from the user and the quotient obtained (on dividing 1st number by 2nd number) is printed.\n",
    "5. If the input is 5, then 2 integers are taken from the user and their remainder(1st number mod 2nd number) is printed.\n",
    "6. If the input is 6, then the program exits.\n",
    "7. For any other input, then print \"Invalid Operation\"."
   ]
  },
  {
   "cell_type": "code",
   "execution_count": null,
   "id": "eb2562e0",
   "metadata": {},
   "outputs": [
    {
     "name": "stdout",
     "output_type": "stream",
     "text": [
      "3\n",
      "4\n",
      "6\n",
      "24\n",
      "2\n",
      "5\n",
      "6\n",
      "-1\n",
      "1\n",
      "3\n",
      "4\n",
      "7\n",
      "6\n"
     ]
    }
   ],
   "source": [
    "while True:\n",
    "    i = int(input())\n",
    "    if(i == 1):\n",
    "        a = int(input())\n",
    "        b = int(input())\n",
    "        c = a+b\n",
    "        print(c)\n",
    "    elif(i == 2):\n",
    "        a = int(input())\n",
    "        b = int(input())\n",
    "        c = a-b\n",
    "        print(c)\n",
    "    elif(i == 3):\n",
    "        a = int(input())\n",
    "        b = int(input())\n",
    "        c = a*b\n",
    "        print(c)\n",
    "    elif(i == 4):\n",
    "        a = int(input())\n",
    "        b = int(input())\n",
    "        c = a/b\n",
    "        print(int(c))\n",
    "    elif(i == 5):\n",
    "        a = int(input())\n",
    "        b = int(input())\n",
    "        c = a//b\n",
    "        print(int(c))\n",
    "    elif(i == 6):\n",
    "        quit()\n",
    "    else:\n",
    "        print(\"Invalid Operation\")"
   ]
  }
 ],
 "metadata": {
  "kernelspec": {
   "display_name": "Python 3 (ipykernel)",
   "language": "python",
   "name": "python3"
  },
  "language_info": {
   "codemirror_mode": {
    "name": "ipython",
    "version": 3
   },
   "file_extension": ".py",
   "mimetype": "text/x-python",
   "name": "python",
   "nbconvert_exporter": "python",
   "pygments_lexer": "ipython3",
   "version": "3.9.7"
  }
 },
 "nbformat": 4,
 "nbformat_minor": 5
}
