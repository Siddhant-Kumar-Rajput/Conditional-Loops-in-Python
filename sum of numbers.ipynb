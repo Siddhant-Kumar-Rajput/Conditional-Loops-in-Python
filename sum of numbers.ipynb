{
 "cells": [
  {
   "cell_type": "markdown",
   "id": "4ea2d767",
   "metadata": {},
   "source": [
    "# using while loop"
   ]
  },
  {
   "cell_type": "markdown",
   "id": "ee41751b",
   "metadata": {},
   "source": [
    "# sum of n numbers"
   ]
  },
  {
   "cell_type": "code",
   "execution_count": 1,
   "id": "7c13919f",
   "metadata": {},
   "outputs": [
    {
     "name": "stdout",
     "output_type": "stream",
     "text": [
      "5\n",
      "15\n"
     ]
    }
   ],
   "source": [
    "n=int(input())\n",
    "count=1\n",
    "tot=0\n",
    "while count<=n:\n",
    "    tot=tot+count\n",
    "    count=count+1\n",
    "print(tot)"
   ]
  },
  {
   "cell_type": "markdown",
   "id": "3210b136",
   "metadata": {},
   "source": [
    "# sum of n even numbers"
   ]
  },
  {
   "cell_type": "code",
   "execution_count": 2,
   "id": "a6a18af9",
   "metadata": {},
   "outputs": [
    {
     "name": "stdout",
     "output_type": "stream",
     "text": [
      "20\n",
      "110\n"
     ]
    }
   ],
   "source": [
    "n=int(input())\n",
    "count=2\n",
    "t=0\n",
    "while count<=n:\n",
    "    t=t+count\n",
    "    count=count+2\n",
    "    \n",
    "print(t)"
   ]
  }
 ],
 "metadata": {
  "kernelspec": {
   "display_name": "Python 3 (ipykernel)",
   "language": "python",
   "name": "python3"
  },
  "language_info": {
   "codemirror_mode": {
    "name": "ipython",
    "version": 3
   },
   "file_extension": ".py",
   "mimetype": "text/x-python",
   "name": "python",
   "nbconvert_exporter": "python",
   "pygments_lexer": "ipython3",
   "version": "3.9.7"
  }
 },
 "nbformat": 4,
 "nbformat_minor": 5
}
