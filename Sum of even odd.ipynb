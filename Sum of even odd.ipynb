{
 "cells": [
  {
   "cell_type": "markdown",
   "id": "fe93c72d",
   "metadata": {},
   "source": [
    "# Digits mean numbers, not the places! That is, if the given integer is \"13245\", even digits are 2 & 4 and odd digits are 1, 3 & 5."
   ]
  },
  {
   "cell_type": "code",
   "execution_count": 1,
   "id": "7147a7ae",
   "metadata": {},
   "outputs": [
    {
     "name": "stdout",
     "output_type": "stream",
     "text": [
      "123456789\n",
      "20 25\n"
     ]
    }
   ],
   "source": [
    "N=int(input())\n",
    "se=0\n",
    "sd=0\n",
    "while ( N> 0):\n",
    "    r = N % 10\n",
    "    if (r % 2 == 0):\n",
    "        se = se + r\n",
    "    else:\n",
    "        sd = sd + r\n",
    "    N = int(N/10)\n",
    "print(se,sd)"
   ]
  }
 ],
 "metadata": {
  "kernelspec": {
   "display_name": "Python 3 (ipykernel)",
   "language": "python",
   "name": "python3"
  },
  "language_info": {
   "codemirror_mode": {
    "name": "ipython",
    "version": 3
   },
   "file_extension": ".py",
   "mimetype": "text/x-python",
   "name": "python",
   "nbconvert_exporter": "python",
   "pygments_lexer": "ipython3",
   "version": "3.9.7"
  }
 },
 "nbformat": 4,
 "nbformat_minor": 5
}
