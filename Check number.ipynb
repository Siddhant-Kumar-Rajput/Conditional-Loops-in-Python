{
 "cells": [
  {
   "cell_type": "code",
   "execution_count": 1,
   "id": "3993fe68",
   "metadata": {},
   "outputs": [
    {
     "name": "stdout",
     "output_type": "stream",
     "text": [
      "1\n",
      "Positive\n"
     ]
    }
   ],
   "source": [
    "n=int(input())\n",
    "if n>0:\n",
    "    print(\"Positive\")\n",
    "elif n==0:\n",
    "    print(\"Zero\")\n",
    "else:\n",
    "    print(\"Negative\")"
   ]
  },
  {
   "cell_type": "code",
   "execution_count": 2,
   "id": "7b641e64",
   "metadata": {},
   "outputs": [
    {
     "name": "stdout",
     "output_type": "stream",
     "text": [
      "0\n",
      "Zero\n"
     ]
    }
   ],
   "source": [
    "n=int(input())\n",
    "if n>0:\n",
    "    print(\"Positive\")\n",
    "elif n==0:\n",
    "    print(\"Zero\")\n",
    "else:\n",
    "    print(\"Negative\")"
   ]
  },
  {
   "cell_type": "code",
   "execution_count": 3,
   "id": "1230fe14",
   "metadata": {},
   "outputs": [
    {
     "name": "stdout",
     "output_type": "stream",
     "text": [
      "-1\n",
      "Negative\n"
     ]
    }
   ],
   "source": [
    "n=int(input())\n",
    "if n>0:\n",
    "    print(\"Positive\")\n",
    "elif n==0:\n",
    "    print(\"Zero\")\n",
    "else:\n",
    "    print(\"Negative\")"
   ]
  }
 ],
 "metadata": {
  "kernelspec": {
   "display_name": "Python 3 (ipykernel)",
   "language": "python",
   "name": "python3"
  },
  "language_info": {
   "codemirror_mode": {
    "name": "ipython",
    "version": 3
   },
   "file_extension": ".py",
   "mimetype": "text/x-python",
   "name": "python",
   "nbconvert_exporter": "python",
   "pygments_lexer": "ipython3",
   "version": "3.9.7"
  }
 },
 "nbformat": 4,
 "nbformat_minor": 5
}
