{
 "cells": [
  {
   "cell_type": "markdown",
   "id": "3ce14e3f",
   "metadata": {},
   "source": [
    "# Given three values - Start Fahrenheit Value (S), End Fahrenheit value (E) and Step Size (W)"
   ]
  },
  {
   "cell_type": "code",
   "execution_count": 1,
   "id": "372f8de4",
   "metadata": {},
   "outputs": [
    {
     "name": "stdout",
     "output_type": "stream",
     "text": [
      "0\n",
      "100\n",
      "20\n",
      "0 -17\n",
      "20 -6\n",
      "40 4\n",
      "60 15\n",
      "80 26\n",
      "100 37\n"
     ]
    }
   ],
   "source": [
    "S=int(input())\n",
    "E=int(input())\n",
    "W=int(input())\n",
    "while S<=E:\n",
    "    C=(((S-32)*5)/9)\n",
    "    print(S,int(C))\n",
    "    S=S+W"
   ]
  }
 ],
 "metadata": {
  "kernelspec": {
   "display_name": "Python 3 (ipykernel)",
   "language": "python",
   "name": "python3"
  },
  "language_info": {
   "codemirror_mode": {
    "name": "ipython",
    "version": 3
   },
   "file_extension": ".py",
   "mimetype": "text/x-python",
   "name": "python",
   "nbconvert_exporter": "python",
   "pygments_lexer": "ipython3",
   "version": "3.9.7"
  }
 },
 "nbformat": 4,
 "nbformat_minor": 5
}
