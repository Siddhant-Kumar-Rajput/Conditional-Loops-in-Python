{
 "cells": [
  {
   "cell_type": "markdown",
   "id": "f0d15794",
   "metadata": {},
   "source": [
    "# If a number has trailing zeros, then its reverse will not include them. For e.g., reverse of 10400 will be 401 instead of 00401."
   ]
  },
  {
   "cell_type": "code",
   "execution_count": 1,
   "id": "a0b8f80e",
   "metadata": {},
   "outputs": [
    {
     "name": "stdout",
     "output_type": "stream",
     "text": [
      "1234\n",
      "4321\n"
     ]
    }
   ],
   "source": [
    "N=int(input())\n",
    "rev = 0\n",
    "while(N > 0):\n",
    "    a = N % 10\n",
    "    rev = rev * 10 + a\n",
    "    N = N // 10\n",
    " \n",
    "print(rev)"
   ]
  },
  {
   "cell_type": "code",
   "execution_count": 2,
   "id": "34d1ce97",
   "metadata": {},
   "outputs": [
    {
     "name": "stdout",
     "output_type": "stream",
     "text": [
      "12300\n",
      "321\n"
     ]
    }
   ],
   "source": [
    "N=int(input())\n",
    "rev = 0\n",
    "while(N > 0):\n",
    "    a = N % 10\n",
    "    rev = rev * 10 + a\n",
    "    N = N // 10\n",
    " \n",
    "print(rev)"
   ]
  }
 ],
 "metadata": {
  "kernelspec": {
   "display_name": "Python 3 (ipykernel)",
   "language": "python",
   "name": "python3"
  },
  "language_info": {
   "codemirror_mode": {
    "name": "ipython",
    "version": 3
   },
   "file_extension": ".py",
   "mimetype": "text/x-python",
   "name": "python",
   "nbconvert_exporter": "python",
   "pygments_lexer": "ipython3",
   "version": "3.9.7"
  }
 },
 "nbformat": 4,
 "nbformat_minor": 5
}
