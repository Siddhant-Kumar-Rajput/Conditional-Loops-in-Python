{
 "cells": [
  {
   "cell_type": "code",
   "execution_count": 1,
   "id": "c40c3d4d",
   "metadata": {},
   "outputs": [
    {
     "name": "stdout",
     "output_type": "stream",
     "text": [
      "medium\n"
     ]
    }
   ],
   "source": [
    "n = 15\n",
    "#Check If the number is between 1 to 10\n",
    "if n>=1 and n<=10:\n",
    "    print(\"too low\")\n",
    "\n",
    "#Check If the number is between 11 to 20\n",
    "elif n>=10 and n<=20:\n",
    "    print(\"medium\")\n",
    "\n",
    "#Check If the number is between 21 to 30\n",
    "elif n>=20 and n<=30:\n",
    "    print(\"large\")\n",
    "#Check if the number is greater than 30 \n",
    "else:\n",
    "    print(\"too large\")"
   ]
  },
  {
   "cell_type": "code",
   "execution_count": 2,
   "id": "8a273be9",
   "metadata": {},
   "outputs": [
    {
     "name": "stdout",
     "output_type": "stream",
     "text": [
      "too low\n"
     ]
    }
   ],
   "source": [
    "n = 10\n",
    "#Check If the number is between 1 to 10\n",
    "if n>=1 and n<=10:\n",
    "    print(\"too low\")\n",
    "\n",
    "#Check If the number is between 10 to 20\n",
    "elif n>=10 and n<=20:\n",
    "    print(\"medium\")\n",
    "\n",
    "#Check If the number is between 20 to 30\n",
    "elif n>=20 and n<=30:\n",
    "    print(\"large\")\n",
    "#Check if the number is greater than 30 \n",
    "else:\n",
    "    print(\"too large\")"
   ]
  }
 ],
 "metadata": {
  "kernelspec": {
   "display_name": "Python 3 (ipykernel)",
   "language": "python",
   "name": "python3"
  },
  "language_info": {
   "codemirror_mode": {
    "name": "ipython",
    "version": 3
   },
   "file_extension": ".py",
   "mimetype": "text/x-python",
   "name": "python",
   "nbconvert_exporter": "python",
   "pygments_lexer": "ipython3",
   "version": "3.9.7"
  }
 },
 "nbformat": 4,
 "nbformat_minor": 5
}
